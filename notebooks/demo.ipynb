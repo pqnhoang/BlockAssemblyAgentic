{
 "cells": [
  {
   "cell_type": "code",
   "execution_count": 1,
   "metadata": {},
   "outputs": [
    {
     "name": "stderr",
     "output_type": "stream",
     "text": [
      "pybullet build time: Sep  3 2024 12:59:12\n"
     ]
    },
    {
     "name": "stdout",
     "output_type": "stream",
     "text": [
      "/Users/pqnhhh/Documents/GitHub\n"
     ]
    }
   ],
   "source": [
    "import matplotlib.pyplot as plt\n",
    "import numpy as np\n",
    "import cv2\n",
    "import os\n",
    "from PIL import Image\n",
    "from src.agent.block_design_mas import BlockDesignMAS\n",
    "import warnings\n",
    "import sys\n",
    "warnings.filterwarnings('ignore')"
   ]
  },
  {
   "cell_type": "code",
   "execution_count": 4,
   "metadata": {},
   "outputs": [
    {
     "name": "stdout",
     "output_type": "stream",
     "text": [
      "========== Round 0 ==========\n",
      "----- Thought ----- \n",
      "To begin with, I will need to get a description of the tree since this information is essential for selecting the appropriate blocks and their arrangement. Based on the typical structure of a tree, it generally has a trunk and branches or canopy. I'll consider using cuboid blocks for the trunk and maybe larger blocks or cylinders for the canopy.\n",
      "----- Plan ----- \n",
      "Step 1: Get the general description of the tree.\n",
      "Step 2: Plan which blocks to use to represent the tree trunk and canopy.\n",
      "Step 3: Decide the position of the blocks to construct the tree.\n",
      "Step 4: Return the blocks position.\n",
      "----- Code ----- \n",
      "def execute_command(object_name, positions, structure_img):\n",
      "    # Initialize the structure\n",
      "    tree = IsometricImage(object_name, positions, structure_img)\n",
      "    # Step 1: Get the general description of the tree.\n",
      "    description = tree.describe_object(iter=0)\n",
      "    # Step 2: Plan which blocks to use to represent the tree trunk and canopy.\n",
      "    plan = tree.make_plan(description, iter=0)\n",
      "    # Step 3: Decide the position of the blocks to construct the tree.\n",
      "    order = tree.order_blocks(plan, iter=0)\n",
      "    positions = tree.decide_position(order, iter=0)\n",
      "    # Step 4: Return the blocks position.\n",
      "    return {\"positions\": positions}\n",
      "Executing code...\n",
      "Successfully saved data to /Users/pqnhhh/Documents/GitHub/multi-agent-block-desgin/gpt_caching/tree/context/description_0_context.json\n",
      "Successfully saved data to /Users/pqnhhh/Documents/GitHub/multi-agent-block-desgin/gpt_caching/tree/context/main_plan_0_context.json\n",
      "Successfully saved data to /Users/pqnhhh/Documents/GitHub/multi-agent-block-desgin/gpt_caching/tree/context/order_plan_0_context.json\n",
      "Successfully saved data to /Users/pqnhhh/Documents/GitHub/multi-agent-block-desgin/gpt_caching/tree/context/decide_position_0_context.json\n",
      "Output saved to final_results/positions/tree_result.json\n",
      "----- Observation ----- \n",
      "The returned positions and characteristics of the blocks are in the correct format. The design includes a cuboid base named 'trunk' and additional components forming a specific structure with 'canopy_base', 'canopy_middle', and 'canopy_top'. Ensure that the current design stage focuses on validating structural stability and proper support of the canopy layers by the trunk to prevent toppling.\n",
      "========== Round 1 ==========\n",
      "----- Thought ----- \n",
      "The design has been successfully planned with a trunk and canopy layers. The trunk supports the canopy layers, so I need to focus on assembling the blocks in a stable configuration and ensure the structure's stability in the simulation.\n",
      "----- Plan ----- \n",
      "Step 1: Place the blocks in the simulation according to the ordered positions for the trunk and canopy layers.\n",
      "Step 2: Refine the structure by checking the stability of the tree with its trunk and canopy configurations.\n",
      "Step 3: Get the image of the design after refining to visualize the assembly.\n",
      "Step 4: Return the positions, the current stability status, and the image after refining.\n",
      "----- Code ----- \n",
      "def execute_command(object_name, positions, structure_img):\n",
      "    # Initialize the structure\n",
      "    tree = IsometricImage(object_name, positions, structure_img)\n",
      "    # Step 1: Place the blocks in the simulation according to the ordered positions for the trunk and canopy layers.\n",
      "    tree.make_structure(tree.positions)\n",
      "    # Step 2: Refine the structure by checking the stability of the tree with its trunk and canopy configurations.\n",
      "    stable = tree.refine_structure(tree.blocks)\n",
      "    # Step 3: Get the image of the design after refining to visualize the assembly.\n",
      "    img = tree.get_structure_image()\n",
      "    # Step 4: Return the positions, the current stability status, and the image after refining.\n",
      "    return {\"positions\": tree.positions, \"is_stable\": stable, \"image\": img}\n",
      "Executing code...\n",
      "Successfully saved data to /Users/pqnhhh/Documents/GitHub/multi-agent-block-desgin/imgs/structures/tree/tree.json\n",
      "Output saved to final_results/positions/tree_result.json\n",
      "----- Observation ----- \n",
      "The design process is in the middle stages, building and refining. The positional data is correctly formatted, indicating a well-structured arrangement of blocks. The structure is stable, with all blocks properly positioned and supported. Additionally, a visual representation of the structure has been successfully generated. The design is ready for the next stage.\n",
      "========== Round 2 ==========\n",
      "----- Thought ----- \n",
      "Given the previous planning and the Observer output, the current structure is stable and properly visualized. Now, I need to gather additional information about the structure and get a rating to ensure it's valid before completing the design.\n",
      "----- Plan ----- \n",
      "Step 1: Make the structure from the positions to confirm its stability.\n",
      "Step 2: Get the detailed information of the structure.\n",
      "Step 3: Get the rating of the structure to assess its design quality.\n",
      "Step 4: Save the structure to finalize the design.\n",
      "----- Code ----- \n",
      "def execute_command(object_name, positions, structure_img):\n",
      "    # Initialize the structure\n",
      "    structure = IsometricImage(object_name, positions, structure_img)\n",
      "    # Step 1: Make the structure from the positions to confirm its stability.\n",
      "    structure.make_structure(structure.positions)\n",
      "    # Step 2: Get the detailed information of the structure.\n",
      "    structure_info = structure.get_structure_info()\n",
      "    # Step 3: Get the rating of the structure to assess its design quality.\n",
      "    rating_info = structure.get_structure_rating()\n",
      "    # Step 4: Save the structure to finalize the design.\n",
      "    structure.save_structure()\n",
      "    return {\"info\": structure_info, \"rating\": rating_info}\n",
      "Executing code...\n",
      "Successfully saved data to /Users/pqnhhh/Documents/GitHub/multi-agent-block-desgin/imgs/structures/tree/tree.json\n",
      "Successfully saved data to /Users/pqnhhh/Documents/GitHub/multi-agent-block-desgin/gpt_caching/tree/context/structure_info_0_context.json\n",
      "Successfully saved data to /Users/pqnhhh/Documents/GitHub/multi-agent-block-desgin/gpt_caching/tree/context/structure_rating_0_context.json\n",
      "----- Observation ----- \n",
      "The structure is valid. The evaluation shows a rating of 4/5, indicating good resemblance to the target object. The info shows that the guesses include tree, plant, bush, cactus, etc., suggesting the design is close to a tree-like structure. The structure effectively uses a limited set of blocks to mimic a tree with a clear trunk and foliage representation. The overall appearance is coherent, and the design is easily recognizable as a tree.\n",
      "========== Round 3 ==========\n",
      "----- Thought ----- \n",
      "The structure has been confirmed stable, and it resembles a tree effectively with a good rating. I need to finalize the design and return it to the user.\n",
      "----- Plan ----- \n",
      "Step 1: Save the structure to finalize the design.\n",
      "Step 2: Return to user.\n"
     ]
    }
   ],
   "source": [
    "designmas = BlockDesignMAS(api_file=\"api_key.txt\", max_round=5)\n",
    "import os\n",
    "BASE_PATH = os.getcwd()  # Hoặc có thể cần đi lên vài cấp thư mục\n",
    "sys.path.append(BASE_PATH)\n",
    "with warnings.catch_warnings():\n",
    "    warnings.simplefilter(\"ignore\")\n",
    "    query = \"Tree\"\n",
    "    positions='/Users/pqnhhh/Documents/GitHub/multi-agent-block-desgin/final_results/positions/tree_result.json'\n",
    "    structure_img = '/Users/pqnhhh/Documents/GitHub/multi-agent-block-desgin/imgs/structures/tree/tree_isometric.png'\n",
    "    save_path = designmas.query(query, positions = positions, structure_img=structure_img)"
   ]
  }
 ],
 "metadata": {
  "kernelspec": {
   "display_name": "gen-design-ma",
   "language": "python",
   "name": "python3"
  },
  "language_info": {
   "codemirror_mode": {
    "name": "ipython",
    "version": 3
   },
   "file_extension": ".py",
   "mimetype": "text/x-python",
   "name": "python",
   "nbconvert_exporter": "python",
   "pygments_lexer": "ipython3",
   "version": "undefined.undefined.undefined"
  }
 },
 "nbformat": 4,
 "nbformat_minor": 2
}
