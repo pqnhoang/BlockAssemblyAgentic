{
 "cells": [
  {
   "cell_type": "code",
   "execution_count": 1,
   "metadata": {},
   "outputs": [
    {
     "name": "stdout",
     "output_type": "stream",
     "text": [
      "/Users/pqnhhh/Documents/GitHub\n",
      "/Users/pqnhhh/Documents/GitHub\n"
     ]
    },
    {
     "name": "stderr",
     "output_type": "stream",
     "text": [
      "pybullet build time: Sep  3 2024 12:59:12\n"
     ]
    }
   ],
   "source": [
    "import matplotlib.pyplot as plt\n",
    "import numpy as np\n",
    "import cv2\n",
    "import os\n",
    "from PIL import Image\n",
    "from src.agent.block_design_mas import BlockDesignMAS\n",
    "import warnings\n",
    "import sys\n",
    "warnings.filterwarnings('ignore')"
   ]
  },
  {
   "cell_type": "code",
   "execution_count": 2,
   "metadata": {},
   "outputs": [
    {
     "name": "stdout",
     "output_type": "stream",
     "text": [
      "========== Round 0 ==========\n",
      "----- Thought ----- \n",
      "To design a one-leg table, I first need to obtain a general description of the table's structure. Then, I will select suitable blocks that can represent the components of a table, namely a flat top and a single leg. Once I have the selected blocks, I will decide their positions to create the final assembly.\n",
      "----- Plan ----- \n",
      "Step 1: Get the general description of the one-leg table.\n",
      "Step 2: Plan which blocks to use to represent the one-leg table.\n",
      "Step 3: Decide the position of the blocks to assemble the one-leg table.\n",
      "Step 4: Return the json format of the design.\n",
      "----- Code ----- \n",
      "def execute_command(object_name, feed_back_image):\n",
      "    # Initialize the structure\n",
      "    table = IsometricImage(object_name, feed_back_image)\n",
      "    # Step 1: Get the general description of the one-leg table.\n",
      "    description = table.describe_object(structure_dir=\"one_leg_table\", iter=1)\n",
      "    # Step 2: Plan which blocks to use to represent the one-leg table.\n",
      "    plan = table.make_plan(description, structure_dir=\"one_leg_table\", iter=1)\n",
      "    # Step 3: Decide the position of the blocks to assemble the one-leg table.\n",
      "    stacking_order = table.order_blocks(structure_dir=\"one_leg_table\", plan=plan, iter=1)\n",
      "    positions = table.decide_position(structure_dir=\"one_leg_table\", order=stacking_order, iter=1)\n",
      "    # Step 4: Return the json format of the design.\n",
      "    return positions\n",
      "Executing code...\n",
      "Successfully saved data to one_leg_table/context/description_1_context.json\n",
      "Successfully saved data to one_leg_table/context/main_plan_1_context.json\n",
      "Successfully saved data to one_leg_table/context/order_plan_1_context.json\n",
      "Successfully saved data to one_leg_table/context/decide_position_1_context.json\n",
      "\n",
      "==================================================\n",
      "COMPONENT 1: table_leg\n",
      "==================================================\n",
      "- Shape: cylinder\n",
      "- Dimensions:\n",
      "  + radius: 20 m\n",
      "  + height: 40 m\n",
      "- Color (RGBA): R=0.5, G=0.5, B=0.5, A=1\n",
      "- Position:\n",
      "  + x: 0 m\n",
      "  + y: 0 m\n",
      "- Rotation (yaw): 0 rad\n",
      "\n",
      "==================================================\n",
      "COMPONENT 2: tabletop\n",
      "==================================================\n",
      "- Shape: cuboid\n",
      "- Dimensions:\n",
      "  + x: 90 m\n",
      "  + y: 70 m\n",
      "  + z: 20 m\n",
      "- Color (RGBA): R=0.5, G=0.5, B=0.5, A=1\n",
      "- Position:\n",
      "  + x: 0 m\n",
      "  + y: 0 m\n",
      "- Rotation (yaw): 0 rad\n",
      "\n",
      "--------------------------------------------------\n",
      "Total components: 2\n",
      "Output saved to one-leg-table_result.json\n"
     ]
    },
    {
     "ename": "TypeError",
     "evalue": "Observer.__call__() missing 1 required positional argument: 'image_path'",
     "output_type": "error",
     "traceback": [
      "\u001b[31m---------------------------------------------------------------------------\u001b[39m",
      "\u001b[31mTypeError\u001b[39m                                 Traceback (most recent call last)",
      "\u001b[36mCell\u001b[39m\u001b[36m \u001b[39m\u001b[32mIn[2]\u001b[39m\u001b[32m, line 9\u001b[39m\n\u001b[32m      7\u001b[39m query = \u001b[33m\"\u001b[39m\u001b[33mone leg table\u001b[39m\u001b[33m\"\u001b[39m\n\u001b[32m      8\u001b[39m feed_back_image = Image.open(os.path.join(BASE_PATH, \u001b[33m\"\u001b[39m\u001b[33mimgs/block.png\u001b[39m\u001b[33m\"\u001b[39m))\n\u001b[32m----> \u001b[39m\u001b[32m9\u001b[39m save_path = \u001b[43mdesignmas\u001b[49m\u001b[43m.\u001b[49m\u001b[43mquery\u001b[49m\u001b[43m(\u001b[49m\u001b[43mquery\u001b[49m\u001b[43m,\u001b[49m\u001b[43m \u001b[49m\u001b[43mfeed_back_image\u001b[49m\u001b[43m)\u001b[49m\n",
      "\u001b[36mFile \u001b[39m\u001b[32m~/Documents/GitHub/multi-agent-block-desgin/src/agent/block_design_mas.py:74\u001b[39m, in \u001b[36mBlockDesignMAS.query\u001b[39m\u001b[34m(self, query, feed_back_image)\u001b[39m\n\u001b[32m     71\u001b[39m         out_str = print_dict(out)\n\u001b[32m     72\u001b[39m         \u001b[38;5;28mprint\u001b[39m(\u001b[33mf\u001b[39m\u001b[33m\"\u001b[39m\u001b[33mOutput saved to \u001b[39m\u001b[38;5;132;01m{\u001b[39;00mobject_name\u001b[38;5;132;01m}\u001b[39;00m\u001b[33m_result.json\u001b[39m\u001b[33m\"\u001b[39m)\n\u001b[32m---> \u001b[39m\u001b[32m74\u001b[39m     \u001b[38;5;28mself\u001b[39m.observation = \u001b[38;5;28;43mself\u001b[39;49m\u001b[43m.\u001b[49m\u001b[43mobserver\u001b[49m\u001b[43m(\u001b[49m\u001b[43mout\u001b[49m\u001b[43m)\u001b[49m\n\u001b[32m     75\u001b[39m     \u001b[38;5;28mprint\u001b[39m(\u001b[32m5\u001b[39m*\u001b[33m'\u001b[39m\u001b[33m-\u001b[39m\u001b[33m'\u001b[39m,\u001b[33m\"\u001b[39m\u001b[33mObservation\u001b[39m\u001b[33m\"\u001b[39m, \u001b[32m5\u001b[39m*\u001b[33m'\u001b[39m\u001b[33m-\u001b[39m\u001b[33m'\u001b[39m, \u001b[33m'\u001b[39m\u001b[38;5;130;01m\\n\u001b[39;00m\u001b[33m'\u001b[39m + \u001b[38;5;28mself\u001b[39m.observation)\n\u001b[32m     77\u001b[39m \u001b[38;5;28;01mreturn\u001b[39;00m out\n",
      "\u001b[31mTypeError\u001b[39m: Observer.__call__() missing 1 required positional argument: 'image_path'"
     ]
    }
   ],
   "source": [
    "designmas = BlockDesignMAS(api_file=\"api_key.txt\", max_round=5)\n",
    "import os\n",
    "BASE_PATH = os.getcwd()  # Hoặc có thể cần đi lên vài cấp thư mục\n",
    "sys.path.append(BASE_PATH)\n",
    "with warnings.catch_warnings():\n",
    "    warnings.simplefilter(\"ignore\")\n",
    "    query = \"one leg table\"\n",
    "    feed_back_image = Image.open(os.path.join(BASE_PATH, \"imgs/block.png\"))\n",
    "    save_path = designmas.query(query, feed_back_image)"
   ]
  }
 ],
 "metadata": {
  "kernelspec": {
   "display_name": "gen-design-ma",
   "language": "python",
   "name": "python3"
  },
  "language_info": {
   "codemirror_mode": {
    "name": "ipython",
    "version": 3
   },
   "file_extension": ".py",
   "mimetype": "text/x-python",
   "name": "python",
   "nbconvert_exporter": "python",
   "pygments_lexer": "ipython3",
   "version": "3.11.8"
  }
 },
 "nbformat": 4,
 "nbformat_minor": 2
}
